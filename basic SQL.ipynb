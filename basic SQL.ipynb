{
 "cells": [
  {
   "cell_type": "markdown",
   "id": "8fdf54a8",
   "metadata": {},
   "source": [
    "# SQL 101"
   ]
  },
  {
   "cell_type": "markdown",
   "id": "3e03b772",
   "metadata": {},
   "source": [
    "# Starting with the why"
   ]
  },
  {
   "cell_type": "code",
   "execution_count": null,
   "id": "8133e94b",
   "metadata": {},
   "outputs": [],
   "source": [
    "\n",
    "\n",
    "\n",
    "\n",
    "\n",
    "\n",
    "\n",
    "\n",
    "\n",
    "\n",
    "\n",
    "\n",
    "\n",
    "\n",
    "\n",
    "\n",
    "\n",
    "\n",
    "\n",
    "\n"
   ]
  },
  {
   "cell_type": "markdown",
   "id": "471a2de4",
   "metadata": {},
   "source": [
    "## The SQL commands are mainly categorized into four categories as: \n",
    "### DDL – Data Definition Language\n",
    "### DQl – Data Query Language\n",
    "### DML – Data Manipulation Language\n",
    "### DCL – Data Control Language"
   ]
  },
  {
   "attachments": {},
   "cell_type": "markdown",
   "id": "94a842ef",
   "metadata": {},
   "source": [
    "![alt text](sql_commands.png \"SQL command types\")"
   ]
  },
  {
   "cell_type": "markdown",
   "id": "f9320a27",
   "metadata": {},
   "source": [
    "Reference: \n",
    "https://www.geeksforgeeks.org/sql-ddl-dql-dml-dcl-tcl-commands/"
   ]
  },
  {
   "attachments": {},
   "cell_type": "markdown",
   "id": "eb346899",
   "metadata": {},
   "source": [
    "# Query engine vs. Database:\n"
   ]
  },
  {
   "attachments": {},
   "cell_type": "markdown",
   "id": "7d5131ad",
   "metadata": {},
   "source": [
    "![alt text](db_vs_qe.png \"Join types\")"
   ]
  },
  {
   "cell_type": "markdown",
   "id": "57aaaf25",
   "metadata": {},
   "source": [
    "# Main queriable entities: \n",
    "\n",
    "\n"
   ]
  },
  {
   "cell_type": "markdown",
   "id": "ca26c68d",
   "metadata": {},
   "source": [
    "## Join types\n",
    "https://www.codeproject.com/Articles/33052/Visual-Representation-of-SQL-Joins"
   ]
  },
  {
   "attachments": {},
   "cell_type": "markdown",
   "id": "d6a99934",
   "metadata": {},
   "source": [
    "![alt text](Visual_SQL_JOINS_V2.png \"Join types\")"
   ]
  },
  {
   "cell_type": "markdown",
   "id": "5dc211cc",
   "metadata": {},
   "source": [
    "## Aditional operators"
   ]
  },
  {
   "cell_type": "markdown",
   "id": "5c16836f",
   "metadata": {},
   "source": [
    "### Minus , Union \n",
    "\n",
    "### With "
   ]
  },
  {
   "cell_type": "markdown",
   "id": "bae3dd91",
   "metadata": {},
   "source": [
    "### Ctas "
   ]
  },
  {
   "cell_type": "markdown",
   "id": "3229adc9",
   "metadata": {},
   "source": [
    "### sub quey corelated / not corelated "
   ]
  },
  {
   "cell_type": "code",
   "execution_count": null,
   "id": "6a670373",
   "metadata": {},
   "outputs": [],
   "source": []
  },
  {
   "cell_type": "markdown",
   "id": "a6efc856",
   "metadata": {},
   "source": [
    "#### SELECT c1, aggregate(expr) AS c2 \n",
    "#### FROM tbl\n",
    "#### GROUP BY c1\n",
    "#### HAVING c2 > v"
   ]
  },
  {
   "cell_type": "markdown",
   "id": "12a45ca3",
   "metadata": {},
   "source": [
    "# Operators"
   ]
  },
  {
   "cell_type": "markdown",
   "id": "1fd294d8",
   "metadata": {},
   "source": [
    "Between \n",
    "in \n",
    "Limit offset"
   ]
  },
  {
   "cell_type": "markdown",
   "id": "dce37ebb",
   "metadata": {},
   "source": [
    "### subquery"
   ]
  },
  {
   "cell_type": "markdown",
   "id": "40eaa340",
   "metadata": {},
   "source": [
    "#  Aditional topics:        "
   ]
  },
  {
   "cell_type": "markdown",
   "id": "1dbd23f9",
   "metadata": {},
   "source": [
    "## tools:\n",
    "### Database Manager / IDE tools : DBever....\n",
    "### Pyathena \n",
    "### "
   ]
  },
  {
   "cell_type": "markdown",
   "id": "50239a79",
   "metadata": {},
   "source": [
    "### pattern types for example:\n",
    "#### Star schem\n",
    "#### Big Table\n",
    "#### OLTP \n",
    "#### OLAP \n",
    "#### BCNF:\n",
    "https://www.techopedia.com/definition/5642/boyce-codd-normal-form-bcnf#:~:text=Boyce%2DCodd%20Normal%20Form%20(BCNF)%20is%20one%20of%20the,NF%2C%20or%203.5%20Normal%20Form."
   ]
  },
  {
   "cell_type": "markdown",
   "id": "e76a54df",
   "metadata": {},
   "source": [
    "# Geo Spacial \n",
    "https://docs.aws.amazon.com/athena/latest/ug/geospatial-example-queries.html\n"
   ]
  },
  {
   "attachments": {},
   "cell_type": "markdown",
   "id": "513a8e93",
   "metadata": {},
   "source": [
    "![alt text](Cal_counties_gray.jpeg \"Join types\")"
   ]
  },
  {
   "cell_type": "code",
   "execution_count": null,
   "id": "6526b0ec",
   "metadata": {},
   "outputs": [],
   "source": []
  }
 ],
 "metadata": {
  "kernelspec": {
   "display_name": "Python 3",
   "language": "python",
   "name": "python3"
  },
  "language_info": {
   "codemirror_mode": {
    "name": "ipython",
    "version": 3
   },
   "file_extension": ".py",
   "mimetype": "text/x-python",
   "name": "python",
   "nbconvert_exporter": "python",
   "pygments_lexer": "ipython3",
   "version": "3.8.8"
  },
  "vp": {
   "base_numbering": 1,
   "nav_menu": {},
   "number_sections": true,
   "sideBar": true,
   "title_cell": "VisualPython",
   "title_sidebar": "VisualPython",
   "vpPosition": {
    "height": "calc(100% - 180px)",
    "right": "10px",
    "top": "110px",
    "width": "50%"
   },
   "vp_cell": false,
   "vp_section_display": true,
   "vp_window_display": false
  }
 },
 "nbformat": 4,
 "nbformat_minor": 5
}
